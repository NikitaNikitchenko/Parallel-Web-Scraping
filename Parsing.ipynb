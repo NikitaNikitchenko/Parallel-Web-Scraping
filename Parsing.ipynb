{
 "cells": [
  {
   "cell_type": "code",
   "execution_count": 1,
   "id": "225b74c2-191e-4256-ab41-4c85a7b8b45e",
   "metadata": {},
   "outputs": [],
   "source": [
    "import requests\n",
    "from bs4 import BeautifulSoup\n",
    "from operator import itemgetter, attrgetter\n",
    "from tqdm.notebook import tqdm\n",
    "from multiprocessing.dummy import Pool as ThreadPool, Queue\n",
    "import gzip, codecs\n",
    "from itertools import chain\n",
    "from time import sleep\n",
    "from fake_useragent import UserAgent\n",
    "from functools import partial\n",
    "from contextlib import ExitStack\n",
    "import re\n",
    "from collections import OrderedDict\n",
    "import os, sys\n",
    "import json\n",
    "import numpy as np\n",
    "import pandas as pd\n",
    "import shutil\n",
    "pd.set_option('display.max_columns',50)"
   ]
  },
  {
   "cell_type": "code",
   "execution_count": 2,
   "id": "a06f2292-87b3-4750-bc01-c00fefc9bf9f",
   "metadata": {},
   "outputs": [],
   "source": [
    "DOMAIN = 'https://shop.relod.ru'"
   ]
  },
  {
   "cell_type": "code",
   "execution_count": 3,
   "id": "a3de6ae4-8c24-410d-95e0-7fd75204f8d0",
   "metadata": {},
   "outputs": [
    {
     "data": {
      "text/plain": [
       "'Mozilla/5.0 (Windows NT 10.0; Win64; x64; rv:123.0) Gecko/20100101 Firefox/123.0'"
      ]
     },
     "execution_count": 3,
     "metadata": {},
     "output_type": "execute_result"
    }
   ],
   "source": [
    "ua = UserAgent()\n",
    "UA = ua.firefox\n",
    "UA"
   ]
  },
  {
   "cell_type": "code",
   "execution_count": 4,
   "id": "4d2ec02f-c964-4c16-9a34-252389e30445",
   "metadata": {},
   "outputs": [],
   "source": [
    "def request_page(url, method, n_attempts=5, t_sleep=1, **kwargs):\n",
    "    \"\"\"\n",
    "        \u041f\u0440\u043e\u0432\u0435\u0440\u044f\u0435\u0442, \u0447\u0442\u043e \u0441\u0442\u0440\u0430\u043d\u0438\u0446\u0430 \u0441\u043a\u0430\u0447\u0430\u043d\u0430 (\u0435\u0441\u043b\u0438 \u0441\u0442\u0440\u0430\u043d\u0438\u0446\u0430 \u043d\u0435 \u0441\u043a\u0430\u0447\u0430\u043d\u0430, \u0442\u043e \u043f\u0440\u043e\u0431\u0443\u0435\u0442 \u0435\u0435 \u043f\u0435\u0440\u0435\u043a\u0430\u0447\u0430\u0442\u044c)\n",
    "    \"\"\" \n",
    "    while n_attempts > 0:\n",
    "        page = requests.request(method, url, **kwargs)\n",
    "        if page.ok:\n",
    "            return page\n",
    "        sleep(t_sleep)\n",
    "        n_attempts -= 1\n",
    "get_page = partial(request_page, method='GET')\n",
    "post_page = partial(request_page, method='POST')"
   ]
  },
  {
   "cell_type": "code",
   "execution_count": 5,
   "id": "b3d5faf9-d9da-4f71-a81c-22f13e9df561",
   "metadata": {},
   "outputs": [],
   "source": [
    "data = {\n",
    "    \"siteId\":\t\"s1\",\n",
    "    \"template\":\t\".default.5066805247fd90f4681c9458759019c47aeeee73c2035d99874d41cd9e7eb382\",\n",
    "    \"parameters\": \"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.7362603a48911c14b147aefd65ad1b03dae6fef1c4f18d7a767e06a5ab56cdf6\",\n",
    "    \"action\":\t\"showMore\",\n",
    "    \"PAGEN_1\": \"1\"\n",
    "}"
   ]
  },
  {
   "cell_type": "markdown",
   "id": "ac902dec-aee6-4079-8d73-50fddfde3a6b",
   "metadata": {},
   "source": [
    "\u0412 \u043a\u043e\u043d\u0441\u043e\u043b\u0438 \u0431\u0440\u0430\u0443\u0437\u0435\u0440\u0430 (\u0444\u0438\u043b\u044c\u0442\u0440 \u043d\u0430 XHR) \u0437\u0430\u043c\u0435\u0442\u0438\u043b, \u0447\u0442\u043e \u043f\u0440\u0438  \u043d\u0430\u0436\u0430\u0442\u0438\u0438 \u043a\u043d\u043e\u043f\u043a\u0438 \"\u043f\u043e\u043a\u0430\u0437\u0430\u0442\u044c \u0435\u0449\u0435\" \u043d\u0430 \u0441\u0430\u0439\u0442\u0435 \u0434\u043b\u044f \u043f\u043e\u0434\u0433\u0440\u0443\u0437\u043a\u0438 \u043e\u0447\u0435\u0440\u0435\u0434\u043d\u043e\u0439 \u0441\u0442\u0440\u0430\u043d\u0438\u0446\u044b \u0441 \u043a\u0430\u0440\u0442\u043e\u0447\u043a\u0430\u043c\u0438 \u043a\u043d\u0438\u0433, \u0434\u0435\u043b\u0430\u0435\u0442\u0441\u044f post \u0437\u0430\u043f\u0440\u043e\u0441 \u043d\u0430 \u0430\u0434\u0440\u0435\u0441 `https://shop.relod.ru/bitrix/components/bxready.market2/catalog.section/ajax.php` \u0441 \u0434\u0430\u043d\u043d\u044b\u043c\u0438 `data`, \u043a\u043e\u0442\u043e\u0440\u044b\u0439 \u043f\u043e\u0434\u0433\u0440\u0443\u0436\u0430\u0435\u0442 \u0434\u043e\u043f\u043e\u043b\u043d\u0438\u0442\u0435\u043b\u044c\u043d\u0443\u044e \u0441\u0442\u0440\u0430\u043d\u0438\u0446\u0443 \u0441\u0430\u0439\u0442\u0430 c \u043a\u0430\u0440\u0442\u043e\u0447\u043a\u0430\u043c\u0438 \u043a\u043d\u0438\u0433. \u0424\u0430\u043a\u0442\u0438\u0447\u0435\u0441\u043a\u0438 \u043f\u0440\u043e\u0438\u0441\u0445\u043e\u0434\u0438\u0442 \u043e\u0431\u0440\u0430\u0449\u0435\u043d\u0438\u0435 \u043a \u0441\u043a\u0440\u044b\u0442\u043e\u043c\u0443 API \u0441\u0430\u0439\u0442\u0430 \u0438 \u0434\u0436\u0430\u0432\u0430\u0441\u043a\u0440\u0438\u043f\u0442 \u0432\u044b\u0433\u0440\u0443\u0436\u0430\u0435\u0442 \u0434\u0430\u043d\u043d\u044b\u0435 \u043d\u0430 \u0441\u0442\u0440\u0430\u043d\u0438\u0446\u0443. \u041f\u043e\u044d\u0442\u043e\u043c\u0443 \u043f\u043e\u043b\u0443\u0447\u0430\u0442\u044c \u0441\u0442\u0440\u0430\u043d\u0438\u0446\u044b \u043c\u043e\u0436\u043d\u043e \u043b\u0438\u0431\u043e \u0432\u0430\u0440\u044c\u0438\u0440\u0443\u044f \u043f\u0430\u0440\u0430\u043c\u0435\u0442\u0440 `PAGEN_1` \u0432 \u0443\u0440\u043b\u0435, \u043b\u0438\u0431\u043e \u0447\u0435\u0440\u0435\u0437 \u043e\u0431\u0440\u0430\u0449\u0435\u043d\u0438\u0435 \u043d\u0430\u043f\u0440\u044f\u043c\u0443\u044e \u043a ajax.php. \u0421\u0440\u0430\u0432\u043d\u0438\u043c \u0432\u0440\u0435\u043c\u044f \u0440\u0430\u0431\u043e\u0442\u044b"
   ]
  },
  {
   "cell_type": "code",
   "execution_count": 6,
   "id": "f24c6cfe-ca9d-4a71-abcb-e57a4740bbe3",
   "metadata": {},
   "outputs": [],
   "source": [
    "n_page_first = 1\n",
    "n_page_last = 90\n",
    "\n",
    "def get_site_page(page_id, ajax=True):\n",
    "    if ajax:\n",
    "        data['PAGEN_1'] = str(page_id)\n",
    "        page = post_page('https://shop.relod.ru/bitrix/components/bxready.market2/catalog.section/ajax.php', data=data, headers={'user-agent': UA})\n",
    "    else:\n",
    "        page = get_page(f\"https://shop.relod.ru/catalog-products/4577/?sort=PROPERTY_RATING&order=desc&PAGEN_1={page_id}\", headers={'user-agent': UA})\n",
    "    return page\n",
    "#with ThreadPool(30) as pool:\n",
    "#pages = map(get_site_page, range(n_page_first, n_page_last+1))\n",
    "#pool.join()"
   ]
  },
  {
   "cell_type": "code",
   "execution_count": 7,
   "id": "50695203-1734-4d33-9111-335a97d23d48",
   "metadata": {},
   "outputs": [],
   "source": [
    "def get_card_urls(pages):\n",
    "    card_urls = []\n",
    "    for i, page in tqdm(enumerate(pages, 1)):\n",
    "        if page is None:\n",
    "            print(f\"\u0421\u0442\u0440\u0430\u043d\u0438\u0446\u0430 {i} \u043d\u0435 \u0441\u043a\u0430\u0447\u0430\u043d\u0430\", file=sys.stderr)\n",
    "            continue\n",
    "        soup = BeautifulSoup(page.text, 'lxml')\n",
    "        card_urls.extend(map(lambda s: DOMAIN + s.find('a').attrs['href'], soup.find_all('div', class_='bxr-element-image'))) \n",
    "    return card_urls"
   ]
  },
  {
   "cell_type": "code",
   "execution_count": 8,
   "id": "7cd7b79e-4d16-4ec0-8e94-40d448884737",
   "metadata": {},
   "outputs": [
    {
     "name": "stdout",
     "output_type": "stream",
     "text": [
      "CPU times: user 2.95 s, sys: 205 ms, total: 3.16 s\n",
      "Wall time: 1min 37s\n"
     ]
    }
   ],
   "source": [
    "%%time\n",
    "pages = map(partial(get_site_page, ajax=True), range(n_page_first, n_page_last+1))\n",
    "pages = [page for page in pages]"
   ]
  },
  {
   "cell_type": "code",
   "execution_count": 9,
   "id": "3c00b45d-eb64-47b4-9f1c-65dd4989384d",
   "metadata": {},
   "outputs": [
    {
     "name": "stdout",
     "output_type": "stream",
     "text": [
      "CPU times: user 2.99 s, sys: 216 ms, total: 3.21 s\n",
      "Wall time: 1min 13s\n"
     ]
    }
   ],
   "source": [
    "%%time\n",
    "pages = map(partial(get_site_page, ajax=False), range(n_page_first, n_page_last+1))\n",
    "pages = [page for page in pages]"
   ]
  },
  {
   "cell_type": "markdown",
   "id": "20c35838-edce-47c0-94a8-f61a459c5357",
   "metadata": {},
   "source": [
    "\u0412\u0430\u0440\u0438\u0430\u043d\u0442 \u0431\u0435\u0437 ajax \u0431\u044b\u0441\u0442\u0440\u0435\u0435"
   ]
  },
  {
   "cell_type": "markdown",
   "id": "b62a2971-fdfb-47ec-aa65-961554a64b98",
   "metadata": {},
   "source": [
    "\u0414\u043e\u0431\u0430\u0432\u0438\u043c \u043c\u043d\u043e\u0433\u043e\u043f\u043e\u0442\u043e\u0447\u043d\u043e\u0441\u0442\u044c"
   ]
  },
  {
   "cell_type": "code",
   "execution_count": 10,
   "id": "c6992871-0b37-411c-a252-3e593e9a4d5e",
   "metadata": {},
   "outputs": [
    {
     "name": "stdout",
     "output_type": "stream",
     "text": [
      "CPU times: user 2.11 s, sys: 111 ms, total: 2.22 s\n",
      "Wall time: 8.52 s\n"
     ]
    }
   ],
   "source": [
    "%%time\n",
    "with ThreadPool(10) as pool:\n",
    "    pages = pool.map(partial(get_site_page, ajax=False), range(n_page_first, n_page_last+1))\n",
    "pool.join()"
   ]
  },
  {
   "cell_type": "code",
   "execution_count": 11,
   "id": "ff1667ad-1417-4200-976d-396620a47784",
   "metadata": {},
   "outputs": [
    {
     "data": {
      "application/vnd.jupyter.widget-view+json": {
       "model_id": "9783fe4982dd4e578014dd3081ff0523",
       "version_major": 2,
       "version_minor": 0
      },
      "text/plain": [
       "0it [00:00, ?it/s]"
      ]
     },
     "metadata": {},
     "output_type": "display_data"
    },
    {
     "data": {
      "text/plain": [
       "['https://shop.relod.ru/catalog-products/winter_s_tale_movie_tie_in_international_edition/',\n",
       " 'https://shop.relod.ru/catalog-products/white-death/',\n",
       " 'https://shop.relod.ru/catalog-products/what_ho/',\n",
       " 'https://shop.relod.ru/catalog-products/warlock/',\n",
       " 'https://shop.relod.ru/catalog-products/war_and_peace_9780199232765/',\n",
       " 'https://shop.relod.ru/catalog-products/walk-the-wire/',\n",
       " 'https://shop.relod.ru/catalog-products/voyage-au-centre-de-la-terre-pocket-classiques/',\n",
       " 'https://shop.relod.ru/catalog-products/very_good_jeeves/',\n",
       " 'https://shop.relod.ru/catalog-products/vernon_god_little_audiobook_on_cds/',\n",
       " 'https://shop.relod.ru/catalog-products/vanity-fair/']"
      ]
     },
     "execution_count": 11,
     "metadata": {},
     "output_type": "execute_result"
    }
   ],
   "source": [
    "card_urls = get_card_urls(pages)\n",
    "card_urls[:10]"
   ]
  },
  {
   "cell_type": "code",
   "execution_count": 12,
   "id": "8230baf5-da3f-4cfb-8cf3-34e1a06e5800",
   "metadata": {},
   "outputs": [],
   "source": [
    "card_urls = list(OrderedDict.fromkeys(card_urls,0).keys())"
   ]
  },
  {
   "cell_type": "code",
   "execution_count": 13,
   "id": "9f8300e0-1db3-4144-a486-d925260d1a79",
   "metadata": {},
   "outputs": [
    {
     "data": {
      "text/plain": [
       "['https://shop.relod.ru/catalog-products/winter_s_tale_movie_tie_in_international_edition/',\n",
       " 'https://shop.relod.ru/catalog-products/white-death/',\n",
       " 'https://shop.relod.ru/catalog-products/what_ho/',\n",
       " 'https://shop.relod.ru/catalog-products/warlock/',\n",
       " 'https://shop.relod.ru/catalog-products/war_and_peace_9780199232765/',\n",
       " 'https://shop.relod.ru/catalog-products/walk-the-wire/',\n",
       " 'https://shop.relod.ru/catalog-products/voyage-au-centre-de-la-terre-pocket-classiques/',\n",
       " 'https://shop.relod.ru/catalog-products/very_good_jeeves/',\n",
       " 'https://shop.relod.ru/catalog-products/vernon_god_little_audiobook_on_cds/',\n",
       " 'https://shop.relod.ru/catalog-products/vanity-fair/']"
      ]
     },
     "execution_count": 13,
     "metadata": {},
     "output_type": "execute_result"
    }
   ],
   "source": [
    "card_urls[:10]"
   ]
  },
  {
   "cell_type": "code",
   "execution_count": 14,
   "id": "abb09fcb-d591-4d57-88d7-4d3959cf95f8",
   "metadata": {},
   "outputs": [],
   "source": [
    "class GetPageError(RuntimeError):\n",
    "    pass"
   ]
  },
  {
   "cell_type": "code",
   "execution_count": 15,
   "id": "dcdf88a4-5308-454d-ae58-270672e087d5",
   "metadata": {},
   "outputs": [],
   "source": [
    "def process_page(url):\n",
    "    record = {}\n",
    "    record['url'] = url\n",
    "    page = get_page(url)\n",
    "    if not page:\n",
    "        raise GetPageError(url)\n",
    "    soup = BeautifulSoup(page.text, 'lxml')\n",
    "    \n",
    "    record['\u041d\u0430\u0437\u0432\u0430\u043d\u0438\u0435'] = soup.find('h1', itemprop='name').text\n",
    "\n",
    "    record['\u0418\u043b\u043b\u044e\u0441\u0442\u0440\u0430\u0446\u0438\u0438'] = [DOMAIN + s.attrs['data-src'] for s in soup.find('div',class_=\"bxr-element-slider-main\").find_all('img', itemprop=\"image\")]\n",
    "\n",
    "    record['\u041c\u0435\u0442\u043a\u0438'] = soup.find('div', class_='bxr-ribbon-marker-vertical').text.split()\n",
    "\n",
    "    # \u0415\u0441\u043b\u0438 \u0432\u043c\u0435\u0441\u0442\u043e itemprop \u0437\u0430\u0434\u0430\u0442\u044c class_='bxr-raiting-detail' \u0442\u043e \u0434\u043b\u044f \u043d\u0435\u0441\u043a\u043e\u043b\u044c\u043a\u0438\u0445 \u0434\u0435\u0441\u044f\u0442\u043a\u043e\u0432 \u043a\u043d\u0438\u0433 \u0440\u0430\u0431\u043e\u0442\u0430\u0442\u044c \u043d\u0435 \u0431\u0443\u0434\u0435\u0442, \u0442\u0430\u043a \u043a\u0430\u043a \u0440\u0435\u0439\u0442\u0438\u0433 \u043f\u0440\u043e\u0441\u0442\u043e \u043d\u0435 \u0437\u0430\u0434\u0430\u043d\n",
    "    # \u0442\u0435\u0433\u043e\u0432 meta \u043d\u0435\u0442\u0443, \u043f\u043e\u044d\u0442\u043e\u043c\u0443 \u0431\u0443\u0434\u0435\u043c \u0431\u0440\u0430\u0442\u044c attrs \u0443 None \u043e\u0431\u044a\u0435\u043a\u0442\u0430\n",
    "    # \u043c\u0430\u0440\u043a\u0435\u0440\u043e\u043c \u0442\u0430\u043a\u0438\u0445 \u043a\u0430\u0440\u0442\u043e\u0447\u0435\u043a - \u043e\u0442\u0441\u0443\u0442\u0441\u0442\u0432\u0438\u0435 'aggregateRating'\n",
    "    elements = soup.find('div', itemprop='aggregateRating')\n",
    "    if elements:\n",
    "        record['\u041e\u0446\u0435\u043d\u043a\u0430'] = float(elements.find('meta', itemprop='ratingValue').attrs['content']) \n",
    "        rating_count = elements.find('meta', itemprop='ratingCount').attrs['content']\n",
    "        record['\u0427\u0438\u0441\u043b\u043e \u0433\u043e\u043b\u043e\u0441\u043e\u0432'] = rating_count if rating_count else 0\n",
    "    else:\n",
    "        record['\u041e\u0446\u0435\u043d\u043a\u0430'], record['\u0427\u0438\u0441\u043b\u043e \u0433\u043e\u043b\u043e\u0441\u043e\u0432'] = 0, 0\n",
    "\n",
    "    record['\u041d\u0430\u043b\u0438\u0447\u0438\u0435'] = soup.find('div', itemprop='availability').text\n",
    "\n",
    "    record['\u0426\u0435\u043d\u0430'] = float(soup.find('meta', itemprop='price').attrs['content'])\n",
    "\n",
    "    search_res = re.search(r'[\\\"\\']PRICE[\\\"\\']\\s*:\\s*(\\d+(\\.\\d+)?)', page.text, flags=re.DOTALL)\n",
    "    if search_res is not None:\n",
    "        record['\u0426\u0435\u043d\u0430 (\u0441\u043a\u0438\u0434\u043a\u0430)'] = float(search_res.group(1))\n",
    "\n",
    "    record['\u041e\u043f\u0438\u0441\u0430\u043d\u0438\u0435'] = re.sub(r'\\s+', ' ', soup.find('div', class_='bxr-detail-tab-content').text).strip()\n",
    "\n",
    "    rows = soup.find('table', class_='bxr-props-table').find_all('tr')\n",
    "    for row in rows:\n",
    "        record[row.find('td', class_='bxr-props-name').text] = row.find('td', class_='bxr-props-data').find(itemprop='value').text.strip()\n",
    "\n",
    "    return record"
   ]
  },
  {
   "cell_type": "code",
   "execution_count": 16,
   "id": "bcfecd98-c58e-42a1-9370-2a126b641860",
   "metadata": {},
   "outputs": [],
   "source": [
    "#https://shop.relod.ru/catalog-products/warlock/\n",
    "#\"https://shop.relod.ru/catalog-products/thrilogy-book-1-wolf-hall/\"\n",
    "# https://shop.relod.ru/catalog-products/trouver-le-chemin/"
   ]
  },
  {
   "cell_type": "code",
   "execution_count": 17,
   "id": "98068a4c-9c9e-45d3-9e30-0270aaaeddb2",
   "metadata": {},
   "outputs": [
    {
     "data": {
      "text/plain": [
       "{'url': 'https://shop.relod.ru/catalog-products/warlock/',\n",
       " '\u041d\u0430\u0437\u0432\u0430\u043d\u0438\u0435': 'Warlock',\n",
       " '\u0418\u043b\u043b\u044e\u0441\u0442\u0440\u0430\u0446\u0438\u0438': ['https://shop.relod.ru/upload/iblock/958/95898795761e64aec5907a306abec79e.jpg'],\n",
       " '\u041c\u0435\u0442\u043a\u0438': ['Sale', '\u041f\u0422\u0412'],\n",
       " '\u041e\u0446\u0435\u043d\u043a\u0430': 0.0,\n",
       " '\u0427\u0438\u0441\u043b\u043e \u0433\u043e\u043b\u043e\u0441\u043e\u0432': 0,\n",
       " '\u041d\u0430\u043b\u0438\u0447\u0438\u0435': '\u0412 \u043d\u0430\u043b\u0438\u0447\u0438\u0438',\n",
       " '\u0426\u0435\u043d\u0430': 232.0,\n",
       " '\u0426\u0435\u043d\u0430 (\u0441\u043a\u0438\u0434\u043a\u0430)': 185.6,\n",
       " '\u041e\u043f\u0438\u0441\u0430\u043d\u0438\u0435': 'After the death of his beloved Queen Lostris, Taita performs the rites of embalmment and burial for her. Then, stricken with grief, he retreats into the forbidding deserts of North Africa where he becomes a hermit. Over the years that follow he devotes himself to the study of the mysteries of the occult until, armed with these extraordinary powers, he gradually transforms himself into the Warlock. When he is called upon to save the dynasty of Queen Lostris from the clouds of evil that loom over Egypt he discovers that there has, after all, been a divine purpose in his bereavement and suffering ...',\n",
       " 'ISBN(EAN)': '9780330376303',\n",
       " '\u0418\u0437\u0434\u0430\u0442\u0435\u043b\u044c': 'Pan Macmillan',\n",
       " '\u0410\u0432\u0442\u043e\u0440': 'Smith Wilbur',\n",
       " '\u042f\u0437\u044b\u043a': '\u0410\u043d\u0433\u043b\u0438\u0439\u0441\u043a\u0438\u0439',\n",
       " '\u0412\u043e\u0437\u0440\u0430\u0441\u0442\u043d\u044b\u0435 \u043e\u0433\u0440\u0430\u043d\u0438\u0447\u0435\u043d\u0438\u044f': '16+',\n",
       " '\u0420\u0435\u043a\u043e\u043c\u0435\u043d\u0434\u0443\u0435\u043c\u044b\u0439 \u0432\u043e\u0437\u0440\u0430\u0441\u0442': '16+',\n",
       " '\u0424\u043e\u0440\u043c\u0430\u0442': '\u041c\u044f\u0433\u043a\u0430\u044f \u043e\u0431\u043b\u043e\u0436\u043a\u0430',\n",
       " '\u0421\u0442\u0440\u0430\u043d\u0438\u0446\u044b': '375',\n",
       " '\u0413\u043e\u0434 \u0438\u0437\u0434\u0430\u043d\u0438\u044f': '2002',\n",
       " '\u0420\u0435\u0439\u0442\u0438\u043d\u0433': '4.8',\n",
       " '\u0412\u0435\u0441 (\u0433\u0440\u0430\u043c\u043c)': '350',\n",
       " '\u0420\u0430\u0437\u043c\u0435\u0440 (\u043c\u043c)': '178(\u0434) \u0445 111(\u0448) \u0445 40(\u0432)'}"
      ]
     },
     "execution_count": 17,
     "metadata": {},
     "output_type": "execute_result"
    }
   ],
   "source": [
    "record = process_page(\"https://shop.relod.ru/catalog-products/warlock/\")\n",
    "record"
   ]
  },
  {
   "cell_type": "code",
   "execution_count": 18,
   "id": "6eece91e-0672-4c03-bbb0-e0861c34129b",
   "metadata": {},
   "outputs": [
    {
     "name": "stdout",
     "output_type": "stream",
     "text": [
      "{\n",
      " \"url\": \"https://shop.relod.ru/catalog-products/warlock/\",\n",
      " \"\u041d\u0430\u0437\u0432\u0430\u043d\u0438\u0435\": \"Warlock\",\n",
      " \"\u0418\u043b\u043b\u044e\u0441\u0442\u0440\u0430\u0446\u0438\u0438\": [\n",
      "  \"https://shop.relod.ru/upload/iblock/958/95898795761e64aec5907a306abec79e.jpg\"\n",
      " ],\n",
      " \"\u041c\u0435\u0442\u043a\u0438\": [\n",
      "  \"Sale\",\n",
      "  \"\u041f\u0422\u0412\"\n",
      " ],\n",
      " \"\u041e\u0446\u0435\u043d\u043a\u0430\": 0.0,\n",
      " \"\u0427\u0438\u0441\u043b\u043e \u0433\u043e\u043b\u043e\u0441\u043e\u0432\": 0,\n",
      " \"\u041d\u0430\u043b\u0438\u0447\u0438\u0435\": \"\u0412 \u043d\u0430\u043b\u0438\u0447\u0438\u0438\",\n",
      " \"\u0426\u0435\u043d\u0430\": 232.0,\n",
      " \"\u0426\u0435\u043d\u0430 (\u0441\u043a\u0438\u0434\u043a\u0430)\": 185.6,\n",
      " \"\u041e\u043f\u0438\u0441\u0430\u043d\u0438\u0435\": \"After the death of his beloved Queen Lostris, Taita performs the rites of embalmment and burial for her. Then, stricken with grief, he retreats into the forbidding deserts of North Africa where he becomes a hermit. Over the years that follow he devotes himself to the study of the mysteries of the occult until, armed with these extraordinary powers, he gradually transforms himself into the Warlock. When he is called upon to save the dynasty of Queen Lostris from the clouds of evil that loom over Egypt he discovers that there has, after all, been a divine purpose in his bereavement and suffering ...\",\n",
      " \"ISBN(EAN)\": \"9780330376303\",\n",
      " \"\u0418\u0437\u0434\u0430\u0442\u0435\u043b\u044c\": \"Pan Macmillan\",\n",
      " \"\u0410\u0432\u0442\u043e\u0440\": \"Smith Wilbur\",\n",
      " \"\u042f\u0437\u044b\u043a\": \"\u0410\u043d\u0433\u043b\u0438\u0439\u0441\u043a\u0438\u0439\",\n",
      " \"\u0412\u043e\u0437\u0440\u0430\u0441\u0442\u043d\u044b\u0435 \u043e\u0433\u0440\u0430\u043d\u0438\u0447\u0435\u043d\u0438\u044f\": \"16+\",\n",
      " \"\u0420\u0435\u043a\u043e\u043c\u0435\u043d\u0434\u0443\u0435\u043c\u044b\u0439 \u0432\u043e\u0437\u0440\u0430\u0441\u0442\": \"16+\",\n",
      " \"\u0424\u043e\u0440\u043c\u0430\u0442\": \"\u041c\u044f\u0433\u043a\u0430\u044f \u043e\u0431\u043b\u043e\u0436\u043a\u0430\",\n",
      " \"\u0421\u0442\u0440\u0430\u043d\u0438\u0446\u044b\": \"375\",\n",
      " \"\u0413\u043e\u0434 \u0438\u0437\u0434\u0430\u043d\u0438\u044f\": \"2002\",\n",
      " \"\u0420\u0435\u0439\u0442\u0438\u043d\u0433\": \"4.8\",\n",
      " \"\u0412\u0435\u0441 (\u0433\u0440\u0430\u043c\u043c)\": \"350\",\n",
      " \"\u0420\u0430\u0437\u043c\u0435\u0440 (\u043c\u043c)\": \"178(\u0434) \u0445 111(\u0448) \u0445 40(\u0432)\"\n",
      "}\n"
     ]
    }
   ],
   "source": [
    "print(json.dumps(record, ensure_ascii=False, indent=1))"
   ]
  },
  {
   "cell_type": "code",
   "execution_count": 19,
   "id": "59355eea-8fd0-4e26-9e4d-c77d137d434c",
   "metadata": {},
   "outputs": [],
   "source": [
    "if os.path.isdir('data_hw'):\n",
    "    shutil.rmtree('data_hw') # \u0423\u0414\u0410\u041b\u042f\u0415\u041c \u0414\u0418\u0420\u0415\u041a\u0422\u041e\u0420\u0418\u042e! \n",
    "os.mkdir('data_hw') # \u0442\u0435\u043f\u0435\u0440\u044c \u0435\u0441\u0442\u044c \u043f\u0443\u0441\u0442\u0430\u044f \u0434\u0438\u0440\u0435\u043a\u0442\u043e\u0440\u0438\u044f"
   ]
  },
  {
   "cell_type": "code",
   "execution_count": 20,
   "id": "a3a71ee0-ed77-40e7-9d40-cb53ba04925d",
   "metadata": {},
   "outputs": [],
   "source": [
    "def process_page_wrapper(i):\n",
    "    with gzip.open('data_hw/part_{:05d}.jsonl.gz'.format(i), mode='wt') as f_json:\n",
    "        #f_json = codecs.getwriter('utf8')(f_json)\n",
    "        while not queue.empty():\n",
    "            try:\n",
    "                card_url = queue.get()\n",
    "                record = process_page(card_url)\n",
    "                record_str = json.dumps(record, ensure_ascii=False)\n",
    "                print(record_str, file=f_json)\n",
    "            except KeyboardInterrupt:\n",
    "                with lock:\n",
    "                    print(\"\u041f\u0440\u0435\u0440\u044b\u0432\u0430\u043d\u0438\u0435 \u043f\u0440\u043e\u0446\u0435\u0441\u0441\u0430 \u043e\u0431\u043a\u0430\u0447\u043a\u0438\", file=sys.stderr)\n",
    "                break\n",
    "            except Exception as e:\n",
    "                with lock:\n",
    "                    print(f\"\u0412\u043e\u0437\u043d\u0438\u043a\u043b\u043e \u0438\u0441\u043a\u043b\u044e\u0447\u0435\u043d\u0438\u0435: {e}\", file=sys.stderr)\n",
    "                    print(f\"url: {card_url}\", file=sys.stderr)\n",
    "            finally:\n",
    "                with lock:\n",
    "                    pbar.update(1)"
   ]
  },
  {
   "cell_type": "code",
   "execution_count": 21,
   "id": "fa905d2c-9fe4-4251-af52-ffc19d5a44a6",
   "metadata": {
    "scrolled": true
   },
   "outputs": [],
   "source": [
    "queue = Queue()\n",
    "for card_url in card_urls:\n",
    "    queue.put(card_url)"
   ]
  },
  {
   "cell_type": "code",
   "execution_count": 22,
   "id": "f2a75a31-ba7a-4f02-9361-af2a8d6db778",
   "metadata": {},
   "outputs": [
    {
     "data": {
      "application/vnd.jupyter.widget-view+json": {
       "model_id": "5b194f22d98b4e90bd320654341223cb",
       "version_major": 2,
       "version_minor": 0
      },
      "text/plain": [
       "  0%|          | 0/1777 [00:00<?, ?it/s]"
      ]
     },
     "metadata": {},
     "output_type": "display_data"
    },
    {
     "name": "stderr",
     "output_type": "stream",
     "text": [
      "\u0412\u043e\u0437\u043d\u0438\u043a\u043b\u043e \u0438\u0441\u043a\u043b\u044e\u0447\u0435\u043d\u0438\u0435: HTTPSConnectionPool(host='shop.relod.ru', port=443): Max retries exceeded with url: /catalog-products/the-awakening/ (Caused by ConnectTimeoutError(<urllib3.connection.HTTPSConnection object at 0x7fea6574c550>, 'Connection to shop.relod.ru timed out. (connect timeout=None)'))\n",
      "url: https://shop.relod.ru/catalog-products/the-awakening/\n",
      "\u0412\u043e\u0437\u043d\u0438\u043a\u043b\u043e \u0438\u0441\u043a\u043b\u044e\u0447\u0435\u043d\u0438\u0435: 'NoneType' object has no attribute 'text'\n",
      "url: https://shop.relod.ru/catalog-products/narrative_of_the_life_of_frederick_douglass/\n",
      "\u0412\u043e\u0437\u043d\u0438\u043a\u043b\u043e \u0438\u0441\u043a\u043b\u044e\u0447\u0435\u043d\u0438\u0435: 'NoneType' object has no attribute 'text'\n",
      "url: https://shop.relod.ru/catalog-products/chance/\n",
      "\u0412\u043e\u0437\u043d\u0438\u043a\u043b\u043e \u0438\u0441\u043a\u043b\u044e\u0447\u0435\u043d\u0438\u0435: 'NoneType' object has no attribute 'text'\n",
      "url: https://shop.relod.ru/catalog-products/battlefield-3-the-russian/\n",
      "\u0412\u043e\u0437\u043d\u0438\u043a\u043b\u043e \u0438\u0441\u043a\u043b\u044e\u0447\u0435\u043d\u0438\u0435: 'NoneType' object has no attribute 'text'\n",
      "url: https://shop.relod.ru/catalog-products/three_to_get_deadly/\n",
      "\u0412\u043e\u0437\u043d\u0438\u043a\u043b\u043e \u0438\u0441\u043a\u043b\u044e\u0447\u0435\u043d\u0438\u0435: HTTPSConnectionPool(host='shop.relod.ru', port=443): Max retries exceeded with url: /catalog-products/mansfield-park-collins-classics/ (Caused by ConnectTimeoutError(<urllib3.connection.HTTPSConnection object at 0x7feaae16ba10>, 'Connection to shop.relod.ru timed out. (connect timeout=None)'))\n",
      "url: https://shop.relod.ru/catalog-products/mansfield-park-collins-classics/\n"
     ]
    }
   ],
   "source": [
    "with ThreadPool(30) as pool, tqdm(total=queue.qsize()) as pbar:\n",
    "    lock = pbar.get_lock()\n",
    "    pool.map(process_page_wrapper, range(pool._processes))"
   ]
  },
  {
   "cell_type": "markdown",
   "id": "3ecaade6-ddd2-43df-bd6e-574221ad7453",
   "metadata": {},
   "source": [
    "\u0418\u0441\u043a\u043b\u044e\u0447\u0435\u043d\u0438\u044f  'NoneType' object has no attribute 'text', \u0441\u043e\u043e\u0442\u0432\u0435\u0442\u0441\u0432\u0442\u0443\u044e\u0442 \u0441\u043b\u0443\u0447\u0430\u044e \u043a\u043e\u0433\u0434\u0430 \u043a\u0430\u0440\u0442\u043e\u0447\u043a\u0438 \u043d\u0435\u0442\u0443 \u0432 \u043c\u0430\u0433\u0430\u0437\u0438\u043d\u0435, \u0438 \u0441\u0430\u0439\u0442 \u0432\u044b\u0434\u0430\u0435\u0442 \u043f\u0440\u043e\u0441\u0442\u043e \u0441\u0442\u0440\u0430\u043d\u0438\u0446\u0443 \u043a\u0430\u0442\u0430\u043b\u043e\u0433\u0430, \u043a\u043e\u0442\u043e\u0440\u0430\u044f \u0435\u0441\u0442\u0435\u0441\u0442\u0432\u0435\u043d\u043d\u043e \u0438\u043c\u0435\u0435\u0442 \u0434\u0440\u0443\u0433\u0443\u044e \u0441\u0442\u0440\u0443\u043a\u0442\u0443\u0440\u0443"
   ]
  },
  {
   "cell_type": "code",
   "execution_count": 23,
   "id": "2ed5666b-6684-4155-b588-e5764b0870a1",
   "metadata": {},
   "outputs": [
    {
     "name": "stdout",
     "output_type": "stream",
     "text": [
      "part_00000.jsonl.gz  part_00010.jsonl.gz  part_00020.jsonl.gz\n",
      "part_00001.jsonl.gz  part_00011.jsonl.gz  part_00021.jsonl.gz\n",
      "part_00002.jsonl.gz  part_00012.jsonl.gz  part_00022.jsonl.gz\n",
      "part_00003.jsonl.gz  part_00013.jsonl.gz  part_00023.jsonl.gz\n",
      "part_00004.jsonl.gz  part_00014.jsonl.gz  part_00024.jsonl.gz\n",
      "part_00005.jsonl.gz  part_00015.jsonl.gz  part_00025.jsonl.gz\n",
      "part_00006.jsonl.gz  part_00016.jsonl.gz  part_00026.jsonl.gz\n",
      "part_00007.jsonl.gz  part_00017.jsonl.gz  part_00027.jsonl.gz\n",
      "part_00008.jsonl.gz  part_00018.jsonl.gz  part_00028.jsonl.gz\n",
      "part_00009.jsonl.gz  part_00019.jsonl.gz  part_00029.jsonl.gz\n"
     ]
    }
   ],
   "source": [
    "!ls data_hw"
   ]
  },
  {
   "cell_type": "code",
   "execution_count": 24,
   "id": "4463b139-2380-4fb1-affa-617b281ffbf8",
   "metadata": {},
   "outputs": [],
   "source": [
    "def records_reader(dirname: str):\n",
    "    with ExitStack() as stack:\n",
    "        files = [stack.enter_context(gzip.open(os.path.join(dirname, fname), mode='rt')) for fname in os.listdir(dirname)]\n",
    "        # \u0412\u0441\u0435 \u043e\u0442\u043a\u0440\u044b\u0442\u044b\u0435 \u0444\u0430\u0439\u043b\u044b \u0431\u0443\u0434\u0443\u0442 \u0430\u0432\u0442\u043e\u043c\u0430\u0442\u0438\u0447\u0435\u0441\u043a\u0438 \u0437\u0430\u043a\u0440\u044b\u0442\u044b \u0432 \n",
    "        # \u043a\u043e\u043d\u0446\u0435 \u043e\u043f\u0435\u0440\u0430\u0442\u043e\u0440\u0430 `with`, \u0434\u0430\u0436\u0435 \u0435\u0441\u043b\u0438 \u043f\u043e\u043f\u044b\u0442\u043a\u0438 \u043e\u0442\u043a\u0440\u044b\u0442\u044c \n",
    "        # \u0444\u0430\u0439\u043b\u044b \u043f\u043e\u0437\u0436\u0435 \u0432 \u0441\u043f\u0438\u0441\u043a\u0435 \u0432\u044b\u0437\u043e\u0432\u0443\u0442 \u0438\u0441\u043a\u043b\u044e\u0447\u0435\u043d\u0438\u0435\n",
    "        yield from map(json.loads, chain.from_iterable(files))"
   ]
  },
  {
   "cell_type": "code",
   "execution_count": 25,
   "id": "02e62f20-c928-4094-92f4-be81f66cb9a8",
   "metadata": {},
   "outputs": [],
   "source": [
    "df = pd.DataFrame(records_reader('data_hw'))"
   ]
  },
  {
   "cell_type": "code",
   "execution_count": 26,
   "id": "c0d7581e-93a5-40ea-a365-cc2f36b0e7e0",
   "metadata": {},
   "outputs": [
    {
     "data": {
      "text/plain": [
       "(1771, 29)"
      ]
     },
     "execution_count": 26,
     "metadata": {},
     "output_type": "execute_result"
    }
   ],
   "source": [
    "df.shape"
   ]
  },
  {
   "cell_type": "code",
   "execution_count": 27,
   "id": "4037d5d6-0c8f-4d24-8647-bbaf0b2096c0",
   "metadata": {},
   "outputs": [
    {
     "data": {
      "text/plain": [
       "Index(['url', '\u041d\u0430\u0437\u0432\u0430\u043d\u0438\u0435', '\u0418\u043b\u043b\u044e\u0441\u0442\u0440\u0430\u0446\u0438\u0438', '\u041c\u0435\u0442\u043a\u0438', '\u041e\u0446\u0435\u043d\u043a\u0430', '\u0427\u0438\u0441\u043b\u043e \u0433\u043e\u043b\u043e\u0441\u043e\u0432',\n",
       "       '\u041d\u0430\u043b\u0438\u0447\u0438\u0435', '\u0426\u0435\u043d\u0430', '\u041e\u043f\u0438\u0441\u0430\u043d\u0438\u0435', 'ISBN(EAN)', '\u0418\u0437\u0434\u0430\u0442\u0435\u043b\u044c', '\u0410\u0432\u0442\u043e\u0440', '\u042f\u0437\u044b\u043a',\n",
       "       '\u0412\u043e\u0437\u0440\u0430\u0441\u0442\u043d\u044b\u0435 \u043e\u0433\u0440\u0430\u043d\u0438\u0447\u0435\u043d\u0438\u044f', '\u0420\u0435\u043a\u043e\u043c\u0435\u043d\u0434\u0443\u0435\u043c\u044b\u0439 \u0432\u043e\u0437\u0440\u0430\u0441\u0442', '\u0424\u043e\u0440\u043c\u0430\u0442', '\u0421\u0442\u0440\u0430\u043d\u0438\u0446\u044b',\n",
       "       '\u0413\u043e\u0434 \u0438\u0437\u0434\u0430\u043d\u0438\u044f', '\u0420\u0435\u0439\u0442\u0438\u043d\u0433', '\u0412\u0435\u0441 (\u0433\u0440\u0430\u043c\u043c)', '\u0420\u0430\u0437\u043c\u0435\u0440 (\u043c\u043c)', '\u0421\u0435\u0440\u0438\u044f',\n",
       "       '\u0427\u0438\u0442\u0430\u0442\u0435\u043b\u044c\u0441\u043a\u0430\u044f \u0430\u0443\u0434\u0438\u0442\u043e\u0440\u0438\u044f', '\u041d\u043e\u0441\u0438\u0442\u0435\u043b\u044c', '\u0422\u0438\u043f \u043f\u0440\u043e\u0434\u0443\u043a\u0442\u0430', '\u0426\u0435\u043d\u0430 (\u0441\u043a\u0438\u0434\u043a\u0430)'],\n",
       "      dtype='object')"
      ]
     },
     "execution_count": 27,
     "metadata": {},
     "output_type": "execute_result"
    }
   ],
   "source": [
    "df.columns"
   ]
  },
  {
   "cell_type": "code",
   "execution_count": 28,
   "id": "2deeeeaa-2ff8-49cc-84a6-f2635f434a90",
   "metadata": {},
   "outputs": [
    {
     "data": {
      "text/html": [
       "<div>\n",
       "<style scoped>\n",
       "    .dataframe tbody tr th:only-of-type {\n",
       "        vertical-align: middle;\n",
       "    }\n",
       "\n",
       "    .dataframe tbody tr th {\n",
       "        vertical-align: top;\n",
       "    }\n",
       "\n",
       "    .dataframe thead th {\n",
       "        text-align: right;\n",
       "    }\n",
       "</style>\n",
       "<table border=\"1\" class=\"dataframe\">\n",
       "  <thead>\n",
       "    <tr style=\"text-align: right;\">\n",
       "      <th></th>\n",
       "      <th>url</th>\n",
       "      <th>\u041d\u0430\u0437\u0432\u0430\u043d\u0438\u0435</th>\n",
       "      <th>\u0418\u043b\u043b\u044e\u0441\u0442\u0440\u0430\u0446\u0438\u0438</th>\n",
       "      <th>\u041c\u0435\u0442\u043a\u0438</th>\n",
       "      <th>\u041e\u0446\u0435\u043d\u043a\u0430</th>\n",
       "      <th>\u0427\u0438\u0441\u043b\u043e \u0433\u043e\u043b\u043e\u0441\u043e\u0432</th>\n",
       "      <th>\u041d\u0430\u043b\u0438\u0447\u0438\u0435</th>\n",
       "      <th>\u0426\u0435\u043d\u0430</th>\n",
       "      <th>\u041e\u043f\u0438\u0441\u0430\u043d\u0438\u0435</th>\n",
       "      <th>ISBN(EAN)</th>\n",
       "      <th>\u0418\u0437\u0434\u0430\u0442\u0435\u043b\u044c</th>\n",
       "      <th>\u0410\u0432\u0442\u043e\u0440</th>\n",
       "      <th>\u042f\u0437\u044b\u043a</th>\n",
       "      <th>\u0421\u0435\u0440\u0438\u044f</th>\n",
       "      <th>\u0412\u043e\u0437\u0440\u0430\u0441\u0442\u043d\u044b\u0435 \u043e\u0433\u0440\u0430\u043d\u0438\u0447\u0435\u043d\u0438\u044f</th>\n",
       "      <th>\u0420\u0435\u043a\u043e\u043c\u0435\u043d\u0434\u0443\u0435\u043c\u044b\u0439 \u0432\u043e\u0437\u0440\u0430\u0441\u0442</th>\n",
       "      <th>\u0424\u043e\u0440\u043c\u0430\u0442</th>\n",
       "      <th>\u0421\u0442\u0440\u0430\u043d\u0438\u0446\u044b</th>\n",
       "      <th>\u0413\u043e\u0434 \u0438\u0437\u0434\u0430\u043d\u0438\u044f</th>\n",
       "      <th>\u0420\u0435\u0439\u0442\u0438\u043d\u0433</th>\n",
       "      <th>\u0412\u0435\u0441 (\u0433\u0440\u0430\u043c\u043c)</th>\n",
       "      <th>\u0420\u0430\u0437\u043c\u0435\u0440 (\u043c\u043c)</th>\n",
       "      <th>\u041d\u043e\u0441\u0438\u0442\u0435\u043b\u044c</th>\n",
       "      <th>\u0427\u0438\u0442\u0430\u0442\u0435\u043b\u044c\u0441\u043a\u0430\u044f \u0430\u0443\u0434\u0438\u0442\u043e\u0440\u0438\u044f</th>\n",
       "      <th>\u0422\u0438\u043f \u043f\u0440\u043e\u0434\u0443\u043a\u0442\u0430</th>\n",
       "      <th>\u0426\u0435\u043d\u0430 (\u0441\u043a\u0438\u0434\u043a\u0430)</th>\n",
       "      <th>\u0421\u0442\u0440\u0430\u043d\u0430 \u043f\u0440\u043e\u0438\u0441\u0445\u043e\u0436\u0434\u0435\u043d\u0438\u044f</th>\n",
       "      <th>\u0418\u0437\u0434\u0430\u043d\u0438\u0435</th>\n",
       "      <th>\u041e\u0431\u0437\u043e\u0440/\u0420\u043e\u043b\u0438\u043a</th>\n",
       "    </tr>\n",
       "  </thead>\n",
       "  <tbody>\n",
       "    <tr>\n",
       "      <th>0</th>\n",
       "      <td>https://shop.relod.ru/catalog-products/the_vir...</td>\n",
       "      <td>The Virginian</td>\n",
       "      <td>[https://shop.relod.ru/upload/iblock/c4c/c4c76...</td>\n",
       "      <td>[]</td>\n",
       "      <td>0.0</td>\n",
       "      <td>0</td>\n",
       "      <td>\u041f\u043e\u0434 \u0437\u0430\u043a\u0430\u0437</td>\n",
       "      <td>1119.0</td>\n",
       "      <td>The Virginian (1902) is Owen Wister's classic ...</td>\n",
       "      <td>9780199554102</td>\n",
       "      <td>Oxford University Press</td>\n",
       "      <td>Oscar Wilde</td>\n",
       "      <td>\u0410\u043d\u0433\u043b\u0438\u0439\u0441\u043a\u0438\u0439</td>\n",
       "      <td>Oxford World's Classics</td>\n",
       "      <td>16+</td>\n",
       "      <td>16+</td>\n",
       "      <td>\u041c\u044f\u0433\u043a\u0430\u044f \u043e\u0431\u043b\u043e\u0436\u043a\u0430</td>\n",
       "      <td>400</td>\n",
       "      <td>2009</td>\n",
       "      <td>4.8</td>\n",
       "      <td>280</td>\n",
       "      <td>197(\u0434) \u0445 129(\u0448) \u0445 18(\u0432)</td>\n",
       "      <td>NaN</td>\n",
       "      <td>NaN</td>\n",
       "      <td>NaN</td>\n",
       "      <td>NaN</td>\n",
       "      <td>NaN</td>\n",
       "      <td>NaN</td>\n",
       "      <td>NaN</td>\n",
       "    </tr>\n",
       "    <tr>\n",
       "      <th>1</th>\n",
       "      <td>https://shop.relod.ru/catalog-products/the-sea...</td>\n",
       "      <td>The Searcher</td>\n",
       "      <td>[https://shop.relod.ru/upload/iblock/434/cddzs...</td>\n",
       "      <td>[]</td>\n",
       "      <td>0.0</td>\n",
       "      <td>0</td>\n",
       "      <td>\u0412 \u043d\u0430\u043b\u0438\u0447\u0438\u0438</td>\n",
       "      <td>1258.0</td>\n",
       "      <td>A DISAPPEARANCE. A SMALL TOWN. A QUESTION THAT...</td>\n",
       "      <td>9780241990100</td>\n",
       "      <td>Penguin Books</td>\n",
       "      <td>Tana French</td>\n",
       "      <td>\u0410\u043d\u0433\u043b\u0438\u0439\u0441\u043a\u0438\u0439</td>\n",
       "      <td>NaN</td>\n",
       "      <td>16+</td>\n",
       "      <td>16+</td>\n",
       "      <td>\u041c\u044f\u0433\u043a\u0430\u044f \u043e\u0431\u043b\u043e\u0436\u043a\u0430</td>\n",
       "      <td>400</td>\n",
       "      <td>2022</td>\n",
       "      <td>4.8</td>\n",
       "      <td>277</td>\n",
       "      <td>198(\u0434) \u0445 129(\u0448) \u0445 24(\u0432)</td>\n",
       "      <td>NaN</td>\n",
       "      <td>NaN</td>\n",
       "      <td>NaN</td>\n",
       "      <td>NaN</td>\n",
       "      <td>NaN</td>\n",
       "      <td>NaN</td>\n",
       "      <td>NaN</td>\n",
       "    </tr>\n",
       "    <tr>\n",
       "      <th>2</th>\n",
       "      <td>https://shop.relod.ru/catalog-products/the_ice...</td>\n",
       "      <td>The Ice Queen</td>\n",
       "      <td>[https://shop.relod.ru/upload/iblock/be1/be171...</td>\n",
       "      <td>[Sale]</td>\n",
       "      <td>0.0</td>\n",
       "      <td>0</td>\n",
       "      <td>\u0422\u043e\u043b\u044c\u043a\u043e \u0432 \u043c\u0430\u0433\u0430\u0437\u0438\u043d\u0435</td>\n",
       "      <td>763.0</td>\n",
       "      <td>Some secrets remain buried forever ...Holocaus...</td>\n",
       "      <td>9781447266860</td>\n",
       "      <td>Pan Macmillan</td>\n",
       "      <td>Neuhaus Nele</td>\n",
       "      <td>\u0410\u043d\u0433\u043b\u0438\u0439\u0441\u043a\u0438\u0439</td>\n",
       "      <td>NaN</td>\n",
       "      <td>16+</td>\n",
       "      <td>16+</td>\n",
       "      <td>\u041c\u044f\u0433\u043a\u0430\u044f \u043e\u0431\u043b\u043e\u0436\u043a\u0430</td>\n",
       "      <td>352</td>\n",
       "      <td>2015</td>\n",
       "      <td>4.8</td>\n",
       "      <td>465</td>\n",
       "      <td>235(\u0434) \u0445 152(\u0448) \u0445 26(\u0432)</td>\n",
       "      <td>NaN</td>\n",
       "      <td>NaN</td>\n",
       "      <td>NaN</td>\n",
       "      <td>NaN</td>\n",
       "      <td>NaN</td>\n",
       "      <td>NaN</td>\n",
       "      <td>NaN</td>\n",
       "    </tr>\n",
       "    <tr>\n",
       "      <th>3</th>\n",
       "      <td>https://shop.relod.ru/catalog-products/the_com...</td>\n",
       "      <td>The Combat</td>\n",
       "      <td>[https://shop.relod.ru/upload/iblock/acd/acd13...</td>\n",
       "      <td>[Sale]</td>\n",
       "      <td>0.0</td>\n",
       "      <td>0</td>\n",
       "      <td>\u0412 \u043d\u0430\u043b\u0438\u0447\u0438\u0438</td>\n",
       "      <td>243.0</td>\n",
       "      <td>'The Combat', published in 1972, unforgettably...</td>\n",
       "      <td>9780143185536</td>\n",
       "      <td>Penguin Group</td>\n",
       "      <td>Omotoso Kole</td>\n",
       "      <td>\u0410\u043d\u0433\u043b\u0438\u0439\u0441\u043a\u0438\u0439</td>\n",
       "      <td>NaN</td>\n",
       "      <td>16+</td>\n",
       "      <td>16+</td>\n",
       "      <td>\u041c\u044f\u0433\u043a\u0430\u044f \u043e\u0431\u043b\u043e\u0436\u043a\u0430</td>\n",
       "      <td>124</td>\n",
       "      <td>2008</td>\n",
       "      <td>4.8</td>\n",
       "      <td>143</td>\n",
       "      <td>201(\u0434) \u0445 126(\u0448) \u0445 11(\u0432)</td>\n",
       "      <td>\u041f\u0435\u0447\u0430\u0442\u043d\u0430\u044f \u043a\u043d\u0438\u0433\u0430</td>\n",
       "      <td>NaN</td>\n",
       "      <td>NaN</td>\n",
       "      <td>NaN</td>\n",
       "      <td>NaN</td>\n",
       "      <td>NaN</td>\n",
       "      <td>NaN</td>\n",
       "    </tr>\n",
       "    <tr>\n",
       "      <th>4</th>\n",
       "      <td>https://shop.relod.ru/catalog-products/rub_iy_...</td>\n",
       "      <td>Rub\u00e1iy\u00e1t of Omar Khayy\u00e1m</td>\n",
       "      <td>[https://shop.relod.ru/upload/iblock/5b8/5b8bf...</td>\n",
       "      <td>[]</td>\n",
       "      <td>0.0</td>\n",
       "      <td>0</td>\n",
       "      <td>\u0412 \u043d\u0430\u043b\u0438\u0447\u0438\u0438</td>\n",
       "      <td>994.0</td>\n",
       "      <td>'The Moving Finger writes; and, having writ Mo...</td>\n",
       "      <td>9780199580507</td>\n",
       "      <td>Oxford University Press</td>\n",
       "      <td>FitzGerald Edward</td>\n",
       "      <td>\u0410\u043d\u0433\u043b\u0438\u0439\u0441\u043a\u0438\u0439</td>\n",
       "      <td>Oxford World's Classics</td>\n",
       "      <td>16+</td>\n",
       "      <td>16+</td>\n",
       "      <td>\u041c\u044f\u0433\u043a\u0430\u044f \u043e\u0431\u043b\u043e\u0436\u043a\u0430</td>\n",
       "      <td>240</td>\n",
       "      <td>2010</td>\n",
       "      <td>4.8</td>\n",
       "      <td>182</td>\n",
       "      <td>196(\u0434) \u0445 130(\u0448) \u0445 14(\u0432)</td>\n",
       "      <td>NaN</td>\n",
       "      <td>NaN</td>\n",
       "      <td>NaN</td>\n",
       "      <td>NaN</td>\n",
       "      <td>NaN</td>\n",
       "      <td>NaN</td>\n",
       "      <td>NaN</td>\n",
       "    </tr>\n",
       "  </tbody>\n",
       "</table>\n",
       "</div>"
      ],
      "text/plain": [
       "                                                 url  \\\n",
       "0  https://shop.relod.ru/catalog-products/the_vir...   \n",
       "1  https://shop.relod.ru/catalog-products/the-sea...   \n",
       "2  https://shop.relod.ru/catalog-products/the_ice...   \n",
       "3  https://shop.relod.ru/catalog-products/the_com...   \n",
       "4  https://shop.relod.ru/catalog-products/rub_iy_...   \n",
       "\n",
       "                   \u041d\u0430\u0437\u0432\u0430\u043d\u0438\u0435  \\\n",
       "0             The Virginian   \n",
       "1              The Searcher   \n",
       "2             The Ice Queen   \n",
       "3                The Combat   \n",
       "4  Rub\u00e1iy\u00e1t of Omar Khayy\u00e1m   \n",
       "\n",
       "                                         \u0418\u043b\u043b\u044e\u0441\u0442\u0440\u0430\u0446\u0438\u0438   \u041c\u0435\u0442\u043a\u0438  \u041e\u0446\u0435\u043d\u043a\u0430  \\\n",
       "0  [https://shop.relod.ru/upload/iblock/c4c/c4c76...      []     0.0   \n",
       "1  [https://shop.relod.ru/upload/iblock/434/cddzs...      []     0.0   \n",
       "2  [https://shop.relod.ru/upload/iblock/be1/be171...  [Sale]     0.0   \n",
       "3  [https://shop.relod.ru/upload/iblock/acd/acd13...  [Sale]     0.0   \n",
       "4  [https://shop.relod.ru/upload/iblock/5b8/5b8bf...      []     0.0   \n",
       "\n",
       "  \u0427\u0438\u0441\u043b\u043e \u0433\u043e\u043b\u043e\u0441\u043e\u0432            \u041d\u0430\u043b\u0438\u0447\u0438\u0435    \u0426\u0435\u043d\u0430  \\\n",
       "0             0          \u041f\u043e\u0434 \u0437\u0430\u043a\u0430\u0437  1119.0   \n",
       "1             0          \u0412 \u043d\u0430\u043b\u0438\u0447\u0438\u0438  1258.0   \n",
       "2             0  \u0422\u043e\u043b\u044c\u043a\u043e \u0432 \u043c\u0430\u0433\u0430\u0437\u0438\u043d\u0435   763.0   \n",
       "3             0          \u0412 \u043d\u0430\u043b\u0438\u0447\u0438\u0438   243.0   \n",
       "4             0          \u0412 \u043d\u0430\u043b\u0438\u0447\u0438\u0438   994.0   \n",
       "\n",
       "                                            \u041e\u043f\u0438\u0441\u0430\u043d\u0438\u0435      ISBN(EAN)  \\\n",
       "0  The Virginian (1902) is Owen Wister's classic ...  9780199554102   \n",
       "1  A DISAPPEARANCE. A SMALL TOWN. A QUESTION THAT...  9780241990100   \n",
       "2  Some secrets remain buried forever ...Holocaus...  9781447266860   \n",
       "3  'The Combat', published in 1972, unforgettably...  9780143185536   \n",
       "4  'The Moving Finger writes; and, having writ Mo...  9780199580507   \n",
       "\n",
       "                  \u0418\u0437\u0434\u0430\u0442\u0435\u043b\u044c              \u0410\u0432\u0442\u043e\u0440        \u042f\u0437\u044b\u043a  \\\n",
       "0  Oxford University Press        Oscar Wilde  \u0410\u043d\u0433\u043b\u0438\u0439\u0441\u043a\u0438\u0439   \n",
       "1            Penguin Books        Tana French  \u0410\u043d\u0433\u043b\u0438\u0439\u0441\u043a\u0438\u0439   \n",
       "2            Pan Macmillan       Neuhaus Nele  \u0410\u043d\u0433\u043b\u0438\u0439\u0441\u043a\u0438\u0439   \n",
       "3            Penguin Group       Omotoso Kole  \u0410\u043d\u0433\u043b\u0438\u0439\u0441\u043a\u0438\u0439   \n",
       "4  Oxford University Press  FitzGerald Edward  \u0410\u043d\u0433\u043b\u0438\u0439\u0441\u043a\u0438\u0439   \n",
       "\n",
       "                     \u0421\u0435\u0440\u0438\u044f \u0412\u043e\u0437\u0440\u0430\u0441\u0442\u043d\u044b\u0435 \u043e\u0433\u0440\u0430\u043d\u0438\u0447\u0435\u043d\u0438\u044f \u0420\u0435\u043a\u043e\u043c\u0435\u043d\u0434\u0443\u0435\u043c\u044b\u0439 \u0432\u043e\u0437\u0440\u0430\u0441\u0442  \\\n",
       "0  Oxford World's Classics                    16+                   16+   \n",
       "1                      NaN                    16+                   16+   \n",
       "2                      NaN                    16+                   16+   \n",
       "3                      NaN                    16+                   16+   \n",
       "4  Oxford World's Classics                    16+                   16+   \n",
       "\n",
       "           \u0424\u043e\u0440\u043c\u0430\u0442 \u0421\u0442\u0440\u0430\u043d\u0438\u0446\u044b \u0413\u043e\u0434 \u0438\u0437\u0434\u0430\u043d\u0438\u044f \u0420\u0435\u0439\u0442\u0438\u043d\u0433 \u0412\u0435\u0441 (\u0433\u0440\u0430\u043c\u043c)  \\\n",
       "0  \u041c\u044f\u0433\u043a\u0430\u044f \u043e\u0431\u043b\u043e\u0436\u043a\u0430      400        2009     4.8         280   \n",
       "1  \u041c\u044f\u0433\u043a\u0430\u044f \u043e\u0431\u043b\u043e\u0436\u043a\u0430      400        2022     4.8         277   \n",
       "2  \u041c\u044f\u0433\u043a\u0430\u044f \u043e\u0431\u043b\u043e\u0436\u043a\u0430      352        2015     4.8         465   \n",
       "3  \u041c\u044f\u0433\u043a\u0430\u044f \u043e\u0431\u043b\u043e\u0436\u043a\u0430      124        2008     4.8         143   \n",
       "4  \u041c\u044f\u0433\u043a\u0430\u044f \u043e\u0431\u043b\u043e\u0436\u043a\u0430      240        2010     4.8         182   \n",
       "\n",
       "               \u0420\u0430\u0437\u043c\u0435\u0440 (\u043c\u043c)        \u041d\u043e\u0441\u0438\u0442\u0435\u043b\u044c \u0427\u0438\u0442\u0430\u0442\u0435\u043b\u044c\u0441\u043a\u0430\u044f \u0430\u0443\u0434\u0438\u0442\u043e\u0440\u0438\u044f  \\\n",
       "0  197(\u0434) \u0445 129(\u0448) \u0445 18(\u0432)             NaN                    NaN   \n",
       "1  198(\u0434) \u0445 129(\u0448) \u0445 24(\u0432)             NaN                    NaN   \n",
       "2  235(\u0434) \u0445 152(\u0448) \u0445 26(\u0432)             NaN                    NaN   \n",
       "3  201(\u0434) \u0445 126(\u0448) \u0445 11(\u0432)  \u041f\u0435\u0447\u0430\u0442\u043d\u0430\u044f \u043a\u043d\u0438\u0433\u0430                    NaN   \n",
       "4  196(\u0434) \u0445 130(\u0448) \u0445 14(\u0432)             NaN                    NaN   \n",
       "\n",
       "  \u0422\u0438\u043f \u043f\u0440\u043e\u0434\u0443\u043a\u0442\u0430  \u0426\u0435\u043d\u0430 (\u0441\u043a\u0438\u0434\u043a\u0430) \u0421\u0442\u0440\u0430\u043d\u0430 \u043f\u0440\u043e\u0438\u0441\u0445\u043e\u0436\u0434\u0435\u043d\u0438\u044f \u0418\u0437\u0434\u0430\u043d\u0438\u0435 \u041e\u0431\u0437\u043e\u0440/\u0420\u043e\u043b\u0438\u043a  \n",
       "0          NaN            NaN                  NaN     NaN         NaN  \n",
       "1          NaN            NaN                  NaN     NaN         NaN  \n",
       "2          NaN            NaN                  NaN     NaN         NaN  \n",
       "3          NaN            NaN                  NaN     NaN         NaN  \n",
       "4          NaN            NaN                  NaN     NaN         NaN  "
      ]
     },
     "execution_count": 28,
     "metadata": {},
     "output_type": "execute_result"
    }
   ],
   "source": [
    "df.head()"
   ]
  },
  {
   "cell_type": "code",
   "execution_count": 29,
   "id": "8711fff8-7d6d-499d-886c-e467c3efdd84",
   "metadata": {},
   "outputs": [
    {
     "name": "stdout",
     "output_type": "stream",
     "text": [
      "<class 'pandas.core.frame.DataFrame'>\n",
      "RangeIndex: 1771 entries, 0 to 1770\n",
      "Data columns (total 29 columns):\n",
      " #   Column                  Non-Null Count  Dtype  \n",
      "---  ------                  --------------  -----  \n",
      " 0   url                     1771 non-null   object \n",
      " 1   \u041d\u0430\u0437\u0432\u0430\u043d\u0438\u0435                1771 non-null   object \n",
      " 2   \u0418\u043b\u043b\u044e\u0441\u0442\u0440\u0430\u0446\u0438\u0438             1771 non-null   object \n",
      " 3   \u041c\u0435\u0442\u043a\u0438                   1771 non-null   object \n",
      " 4   \u041e\u0446\u0435\u043d\u043a\u0430                  1771 non-null   float64\n",
      " 5   \u0427\u0438\u0441\u043b\u043e \u0433\u043e\u043b\u043e\u0441\u043e\u0432           1771 non-null   object \n",
      " 6   \u041d\u0430\u043b\u0438\u0447\u0438\u0435                 1771 non-null   object \n",
      " 7   \u0426\u0435\u043d\u0430                    1771 non-null   float64\n",
      " 8   \u041e\u043f\u0438\u0441\u0430\u043d\u0438\u0435                1771 non-null   object \n",
      " 9   ISBN(EAN)               1771 non-null   object \n",
      " 10  \u0418\u0437\u0434\u0430\u0442\u0435\u043b\u044c                1769 non-null   object \n",
      " 11  \u0410\u0432\u0442\u043e\u0440                   1694 non-null   object \n",
      " 12  \u042f\u0437\u044b\u043a                    1770 non-null   object \n",
      " 13  \u0421\u0435\u0440\u0438\u044f                   401 non-null    object \n",
      " 14  \u0412\u043e\u0437\u0440\u0430\u0441\u0442\u043d\u044b\u0435 \u043e\u0433\u0440\u0430\u043d\u0438\u0447\u0435\u043d\u0438\u044f  1704 non-null   object \n",
      " 15  \u0420\u0435\u043a\u043e\u043c\u0435\u043d\u0434\u0443\u0435\u043c\u044b\u0439 \u0432\u043e\u0437\u0440\u0430\u0441\u0442   1705 non-null   object \n",
      " 16  \u0424\u043e\u0440\u043c\u0430\u0442                  1744 non-null   object \n",
      " 17  \u0421\u0442\u0440\u0430\u043d\u0438\u0446\u044b                1727 non-null   object \n",
      " 18  \u0413\u043e\u0434 \u0438\u0437\u0434\u0430\u043d\u0438\u044f             1767 non-null   object \n",
      " 19  \u0420\u0435\u0439\u0442\u0438\u043d\u0433                 1709 non-null   object \n",
      " 20  \u0412\u0435\u0441 (\u0433\u0440\u0430\u043c\u043c)             1755 non-null   object \n",
      " 21  \u0420\u0430\u0437\u043c\u0435\u0440 (\u043c\u043c)             1765 non-null   object \n",
      " 22  \u041d\u043e\u0441\u0438\u0442\u0435\u043b\u044c                118 non-null    object \n",
      " 23  \u0427\u0438\u0442\u0430\u0442\u0435\u043b\u044c\u0441\u043a\u0430\u044f \u0430\u0443\u0434\u0438\u0442\u043e\u0440\u0438\u044f  72 non-null     object \n",
      " 24  \u0422\u0438\u043f \u043f\u0440\u043e\u0434\u0443\u043a\u0442\u0430            22 non-null     object \n",
      " 25  \u0426\u0435\u043d\u0430 (\u0441\u043a\u0438\u0434\u043a\u0430)           58 non-null     float64\n",
      " 26  \u0421\u0442\u0440\u0430\u043d\u0430 \u043f\u0440\u043e\u0438\u0441\u0445\u043e\u0436\u0434\u0435\u043d\u0438\u044f    4 non-null      object \n",
      " 27  \u0418\u0437\u0434\u0430\u043d\u0438\u0435                 1 non-null      object \n",
      " 28  \u041e\u0431\u0437\u043e\u0440/\u0420\u043e\u043b\u0438\u043a             2 non-null      object \n",
      "dtypes: float64(3), object(26)\n",
      "memory usage: 401.4+ KB\n"
     ]
    }
   ],
   "source": [
    "df.info()"
   ]
  },
  {
   "cell_type": "code",
   "execution_count": 30,
   "id": "2d905d12-7a4e-4439-b1fc-ad8655b82ffa",
   "metadata": {},
   "outputs": [
    {
     "data": {
      "text/html": [
       "<div>\n",
       "<style scoped>\n",
       "    .dataframe tbody tr th:only-of-type {\n",
       "        vertical-align: middle;\n",
       "    }\n",
       "\n",
       "    .dataframe tbody tr th {\n",
       "        vertical-align: top;\n",
       "    }\n",
       "\n",
       "    .dataframe thead th {\n",
       "        text-align: right;\n",
       "    }\n",
       "</style>\n",
       "<table border=\"1\" class=\"dataframe\">\n",
       "  <thead>\n",
       "    <tr style=\"text-align: right;\">\n",
       "      <th></th>\n",
       "      <th>url</th>\n",
       "      <th>\u041d\u0430\u0437\u0432\u0430\u043d\u0438\u0435</th>\n",
       "      <th>\u0418\u043b\u043b\u044e\u0441\u0442\u0440\u0430\u0446\u0438\u0438</th>\n",
       "      <th>\u041c\u0435\u0442\u043a\u0438</th>\n",
       "      <th>\u0427\u0438\u0441\u043b\u043e \u0433\u043e\u043b\u043e\u0441\u043e\u0432</th>\n",
       "      <th>\u041d\u0430\u043b\u0438\u0447\u0438\u0435</th>\n",
       "      <th>\u041e\u043f\u0438\u0441\u0430\u043d\u0438\u0435</th>\n",
       "      <th>ISBN(EAN)</th>\n",
       "      <th>\u0418\u0437\u0434\u0430\u0442\u0435\u043b\u044c</th>\n",
       "      <th>\u0410\u0432\u0442\u043e\u0440</th>\n",
       "      <th>\u042f\u0437\u044b\u043a</th>\n",
       "      <th>\u0421\u0435\u0440\u0438\u044f</th>\n",
       "      <th>\u0412\u043e\u0437\u0440\u0430\u0441\u0442\u043d\u044b\u0435 \u043e\u0433\u0440\u0430\u043d\u0438\u0447\u0435\u043d\u0438\u044f</th>\n",
       "      <th>\u0420\u0435\u043a\u043e\u043c\u0435\u043d\u0434\u0443\u0435\u043c\u044b\u0439 \u0432\u043e\u0437\u0440\u0430\u0441\u0442</th>\n",
       "      <th>\u0424\u043e\u0440\u043c\u0430\u0442</th>\n",
       "      <th>\u0421\u0442\u0440\u0430\u043d\u0438\u0446\u044b</th>\n",
       "      <th>\u0413\u043e\u0434 \u0438\u0437\u0434\u0430\u043d\u0438\u044f</th>\n",
       "      <th>\u0420\u0435\u0439\u0442\u0438\u043d\u0433</th>\n",
       "      <th>\u0412\u0435\u0441 (\u0433\u0440\u0430\u043c\u043c)</th>\n",
       "      <th>\u0420\u0430\u0437\u043c\u0435\u0440 (\u043c\u043c)</th>\n",
       "      <th>\u041d\u043e\u0441\u0438\u0442\u0435\u043b\u044c</th>\n",
       "      <th>\u0427\u0438\u0442\u0430\u0442\u0435\u043b\u044c\u0441\u043a\u0430\u044f \u0430\u0443\u0434\u0438\u0442\u043e\u0440\u0438\u044f</th>\n",
       "      <th>\u0422\u0438\u043f \u043f\u0440\u043e\u0434\u0443\u043a\u0442\u0430</th>\n",
       "      <th>\u0421\u0442\u0440\u0430\u043d\u0430 \u043f\u0440\u043e\u0438\u0441\u0445\u043e\u0436\u0434\u0435\u043d\u0438\u044f</th>\n",
       "      <th>\u0418\u0437\u0434\u0430\u043d\u0438\u0435</th>\n",
       "      <th>\u041e\u0431\u0437\u043e\u0440/\u0420\u043e\u043b\u0438\u043a</th>\n",
       "    </tr>\n",
       "  </thead>\n",
       "  <tbody>\n",
       "    <tr>\n",
       "      <th>count</th>\n",
       "      <td>1771</td>\n",
       "      <td>1771</td>\n",
       "      <td>1771</td>\n",
       "      <td>1771</td>\n",
       "      <td>1771</td>\n",
       "      <td>1771</td>\n",
       "      <td>1771</td>\n",
       "      <td>1771</td>\n",
       "      <td>1769</td>\n",
       "      <td>1694</td>\n",
       "      <td>1770</td>\n",
       "      <td>401</td>\n",
       "      <td>1704</td>\n",
       "      <td>1705</td>\n",
       "      <td>1744</td>\n",
       "      <td>1727</td>\n",
       "      <td>1767</td>\n",
       "      <td>1709</td>\n",
       "      <td>1755</td>\n",
       "      <td>1765</td>\n",
       "      <td>118</td>\n",
       "      <td>72</td>\n",
       "      <td>22</td>\n",
       "      <td>4</td>\n",
       "      <td>1</td>\n",
       "      <td>2</td>\n",
       "    </tr>\n",
       "    <tr>\n",
       "      <th>unique</th>\n",
       "      <td>1771</td>\n",
       "      <td>1697</td>\n",
       "      <td>1771</td>\n",
       "      <td>6</td>\n",
       "      <td>6</td>\n",
       "      <td>4</td>\n",
       "      <td>1738</td>\n",
       "      <td>1771</td>\n",
       "      <td>109</td>\n",
       "      <td>860</td>\n",
       "      <td>3</td>\n",
       "      <td>12</td>\n",
       "      <td>4</td>\n",
       "      <td>4</td>\n",
       "      <td>4</td>\n",
       "      <td>248</td>\n",
       "      <td>44</td>\n",
       "      <td>15</td>\n",
       "      <td>436</td>\n",
       "      <td>924</td>\n",
       "      <td>5</td>\n",
       "      <td>2</td>\n",
       "      <td>3</td>\n",
       "      <td>3</td>\n",
       "      <td>1</td>\n",
       "      <td>1</td>\n",
       "    </tr>\n",
       "    <tr>\n",
       "      <th>top</th>\n",
       "      <td>https://shop.relod.ru/catalog-products/the_vir...</td>\n",
       "      <td>The Hobbit</td>\n",
       "      <td>[https://shop.relod.ru/upload/iblock/c4c/c4c76...</td>\n",
       "      <td>[]</td>\n",
       "      <td>0</td>\n",
       "      <td>\u041f\u043e\u0434 \u0437\u0430\u043a\u0430\u0437</td>\n",
       "      <td></td>\n",
       "      <td>9780199554102</td>\n",
       "      <td>Harper Collins</td>\n",
       "      <td>J.R.R. Tolkien</td>\n",
       "      <td>\u0410\u043d\u0433\u043b\u0438\u0439\u0441\u043a\u0438\u0439</td>\n",
       "      <td>Oxford World's Classics</td>\n",
       "      <td>16+</td>\n",
       "      <td>16+</td>\n",
       "      <td>\u041c\u044f\u0433\u043a\u0430\u044f \u043e\u0431\u043b\u043e\u0436\u043a\u0430</td>\n",
       "      <td>400</td>\n",
       "      <td>2008</td>\n",
       "      <td>4.0</td>\n",
       "      <td>200</td>\n",
       "      <td>198(\u0434) \u0445 129(\u0448) \u0445 20(\u0432)</td>\n",
       "      <td>\u041f\u0435\u0447\u0430\u0442\u043d\u0430\u044f \u043a\u043d\u0438\u0433\u0430</td>\n",
       "      <td>General (US: Trade)</td>\n",
       "      <td>\u0410\u0443\u0434\u0438\u043e</td>\n",
       "      <td>\u0421\u043e\u0435\u0434\u0438\u043d\u0435\u043d\u043d\u043e\u0435 \u041a\u043e\u0440\u043e\u043b\u0435\u0432\u0441\u0442\u0432\u043e</td>\n",
       "      <td>Second Edition</td>\n",
       "      <td>\u041f\u0440\u043e\u0441\u043c\u043e\u0442\u0440\u0435\u0442\u044c</td>\n",
       "    </tr>\n",
       "    <tr>\n",
       "      <th>freq</th>\n",
       "      <td>1</td>\n",
       "      <td>4</td>\n",
       "      <td>1</td>\n",
       "      <td>1312</td>\n",
       "      <td>1743</td>\n",
       "      <td>923</td>\n",
       "      <td>18</td>\n",
       "      <td>1</td>\n",
       "      <td>331</td>\n",
       "      <td>39</td>\n",
       "      <td>1557</td>\n",
       "      <td>227</td>\n",
       "      <td>1696</td>\n",
       "      <td>1696</td>\n",
       "      <td>1639</td>\n",
       "      <td>78</td>\n",
       "      <td>203</td>\n",
       "      <td>606</td>\n",
       "      <td>50</td>\n",
       "      <td>29</td>\n",
       "      <td>101</td>\n",
       "      <td>71</td>\n",
       "      <td>15</td>\n",
       "      <td>2</td>\n",
       "      <td>1</td>\n",
       "      <td>2</td>\n",
       "    </tr>\n",
       "  </tbody>\n",
       "</table>\n",
       "</div>"
      ],
      "text/plain": [
       "                                                      url    \u041d\u0430\u0437\u0432\u0430\u043d\u0438\u0435  \\\n",
       "count                                                1771        1771   \n",
       "unique                                               1771        1697   \n",
       "top     https://shop.relod.ru/catalog-products/the_vir...  The Hobbit   \n",
       "freq                                                    1           4   \n",
       "\n",
       "                                              \u0418\u043b\u043b\u044e\u0441\u0442\u0440\u0430\u0446\u0438\u0438 \u041c\u0435\u0442\u043a\u0438  \\\n",
       "count                                                1771  1771   \n",
       "unique                                               1771     6   \n",
       "top     [https://shop.relod.ru/upload/iblock/c4c/c4c76...    []   \n",
       "freq                                                    1  1312   \n",
       "\n",
       "        \u0427\u0438\u0441\u043b\u043e \u0433\u043e\u043b\u043e\u0441\u043e\u0432    \u041d\u0430\u043b\u0438\u0447\u0438\u0435 \u041e\u043f\u0438\u0441\u0430\u043d\u0438\u0435      ISBN(EAN)        \u0418\u0437\u0434\u0430\u0442\u0435\u043b\u044c  \\\n",
       "count            1771       1771     1771           1771            1769   \n",
       "unique              6          4     1738           1771             109   \n",
       "top                 0  \u041f\u043e\u0434 \u0437\u0430\u043a\u0430\u0437           9780199554102  Harper Collins   \n",
       "freq             1743        923       18              1             331   \n",
       "\n",
       "                 \u0410\u0432\u0442\u043e\u0440        \u042f\u0437\u044b\u043a                    \u0421\u0435\u0440\u0438\u044f  \\\n",
       "count             1694        1770                      401   \n",
       "unique             860           3                       12   \n",
       "top     J.R.R. Tolkien  \u0410\u043d\u0433\u043b\u0438\u0439\u0441\u043a\u0438\u0439  Oxford World's Classics   \n",
       "freq                39        1557                      227   \n",
       "\n",
       "       \u0412\u043e\u0437\u0440\u0430\u0441\u0442\u043d\u044b\u0435 \u043e\u0433\u0440\u0430\u043d\u0438\u0447\u0435\u043d\u0438\u044f \u0420\u0435\u043a\u043e\u043c\u0435\u043d\u0434\u0443\u0435\u043c\u044b\u0439 \u0432\u043e\u0437\u0440\u0430\u0441\u0442          \u0424\u043e\u0440\u043c\u0430\u0442 \u0421\u0442\u0440\u0430\u043d\u0438\u0446\u044b  \\\n",
       "count                    1704                  1705            1744     1727   \n",
       "unique                      4                     4               4      248   \n",
       "top                       16+                   16+  \u041c\u044f\u0433\u043a\u0430\u044f \u043e\u0431\u043b\u043e\u0436\u043a\u0430      400   \n",
       "freq                     1696                  1696            1639       78   \n",
       "\n",
       "       \u0413\u043e\u0434 \u0438\u0437\u0434\u0430\u043d\u0438\u044f \u0420\u0435\u0439\u0442\u0438\u043d\u0433 \u0412\u0435\u0441 (\u0433\u0440\u0430\u043c\u043c)              \u0420\u0430\u0437\u043c\u0435\u0440 (\u043c\u043c)  \\\n",
       "count         1767    1709        1755                     1765   \n",
       "unique          44      15         436                      924   \n",
       "top           2008     4.0         200  198(\u0434) \u0445 129(\u0448) \u0445 20(\u0432)   \n",
       "freq           203     606          50                       29   \n",
       "\n",
       "              \u041d\u043e\u0441\u0438\u0442\u0435\u043b\u044c \u0427\u0438\u0442\u0430\u0442\u0435\u043b\u044c\u0441\u043a\u0430\u044f \u0430\u0443\u0434\u0438\u0442\u043e\u0440\u0438\u044f \u0422\u0438\u043f \u043f\u0440\u043e\u0434\u0443\u043a\u0442\u0430  \\\n",
       "count              118                     72           22   \n",
       "unique               5                      2            3   \n",
       "top     \u041f\u0435\u0447\u0430\u0442\u043d\u0430\u044f \u043a\u043d\u0438\u0433\u0430    General (US: Trade)        \u0410\u0443\u0434\u0438\u043e   \n",
       "freq               101                     71           15   \n",
       "\n",
       "           \u0421\u0442\u0440\u0430\u043d\u0430 \u043f\u0440\u043e\u0438\u0441\u0445\u043e\u0436\u0434\u0435\u043d\u0438\u044f         \u0418\u0437\u0434\u0430\u043d\u0438\u0435  \u041e\u0431\u0437\u043e\u0440/\u0420\u043e\u043b\u0438\u043a  \n",
       "count                         4               1            2  \n",
       "unique                        3               1            1  \n",
       "top     \u0421\u043e\u0435\u0434\u0438\u043d\u0435\u043d\u043d\u043e\u0435 \u041a\u043e\u0440\u043e\u043b\u0435\u0432\u0441\u0442\u0432\u043e  Second Edition  \u041f\u0440\u043e\u0441\u043c\u043e\u0442\u0440\u0435\u0442\u044c  \n",
       "freq                          2               1            2  "
      ]
     },
     "execution_count": 30,
     "metadata": {},
     "output_type": "execute_result"
    }
   ],
   "source": [
    "df.describe(include=['object'])"
   ]
  },
  {
   "cell_type": "code",
   "execution_count": 31,
   "id": "9636484e-d6ca-49a8-90c6-254423e33846",
   "metadata": {},
   "outputs": [
    {
     "data": {
      "text/html": [
       "<div>\n",
       "<style scoped>\n",
       "    .dataframe tbody tr th:only-of-type {\n",
       "        vertical-align: middle;\n",
       "    }\n",
       "\n",
       "    .dataframe tbody tr th {\n",
       "        vertical-align: top;\n",
       "    }\n",
       "\n",
       "    .dataframe thead th {\n",
       "        text-align: right;\n",
       "    }\n",
       "</style>\n",
       "<table border=\"1\" class=\"dataframe\">\n",
       "  <thead>\n",
       "    <tr style=\"text-align: right;\">\n",
       "      <th></th>\n",
       "      <th>\u041e\u0446\u0435\u043d\u043a\u0430</th>\n",
       "      <th>\u0426\u0435\u043d\u0430</th>\n",
       "      <th>\u0426\u0435\u043d\u0430 (\u0441\u043a\u0438\u0434\u043a\u0430)</th>\n",
       "    </tr>\n",
       "  </thead>\n",
       "  <tbody>\n",
       "    <tr>\n",
       "      <th>count</th>\n",
       "      <td>1771.000000</td>\n",
       "      <td>1771.000000</td>\n",
       "      <td>58.000000</td>\n",
       "    </tr>\n",
       "    <tr>\n",
       "      <th>mean</th>\n",
       "      <td>0.064370</td>\n",
       "      <td>1043.384529</td>\n",
       "      <td>232.055172</td>\n",
       "    </tr>\n",
       "    <tr>\n",
       "      <th>std</th>\n",
       "      <td>0.529833</td>\n",
       "      <td>730.778142</td>\n",
       "      <td>174.616306</td>\n",
       "    </tr>\n",
       "    <tr>\n",
       "      <th>min</th>\n",
       "      <td>0.000000</td>\n",
       "      <td>99.000000</td>\n",
       "      <td>79.200000</td>\n",
       "    </tr>\n",
       "    <tr>\n",
       "      <th>25%</th>\n",
       "      <td>0.000000</td>\n",
       "      <td>490.000000</td>\n",
       "      <td>143.200000</td>\n",
       "    </tr>\n",
       "    <tr>\n",
       "      <th>50%</th>\n",
       "      <td>0.000000</td>\n",
       "      <td>1101.000000</td>\n",
       "      <td>185.600000</td>\n",
       "    </tr>\n",
       "    <tr>\n",
       "      <th>75%</th>\n",
       "      <td>0.000000</td>\n",
       "      <td>1357.000000</td>\n",
       "      <td>264.000000</td>\n",
       "    </tr>\n",
       "    <tr>\n",
       "      <th>max</th>\n",
       "      <td>5.000000</td>\n",
       "      <td>13213.000000</td>\n",
       "      <td>855.200000</td>\n",
       "    </tr>\n",
       "  </tbody>\n",
       "</table>\n",
       "</div>"
      ],
      "text/plain": [
       "            \u041e\u0446\u0435\u043d\u043a\u0430          \u0426\u0435\u043d\u0430  \u0426\u0435\u043d\u0430 (\u0441\u043a\u0438\u0434\u043a\u0430)\n",
       "count  1771.000000   1771.000000      58.000000\n",
       "mean      0.064370   1043.384529     232.055172\n",
       "std       0.529833    730.778142     174.616306\n",
       "min       0.000000     99.000000      79.200000\n",
       "25%       0.000000    490.000000     143.200000\n",
       "50%       0.000000   1101.000000     185.600000\n",
       "75%       0.000000   1357.000000     264.000000\n",
       "max       5.000000  13213.000000     855.200000"
      ]
     },
     "execution_count": 31,
     "metadata": {},
     "output_type": "execute_result"
    }
   ],
   "source": [
    "df.describe()"
   ]
  },
  {
   "cell_type": "code",
   "execution_count": 32,
   "id": "87cf727c-1def-46df-866e-ba902d77e794",
   "metadata": {},
   "outputs": [],
   "source": [
    "df.to_csv('hw_parsing.csv', index=False)"
   ]
  }
 ],
 "metadata": {
  "kernelspec": {
   "display_name": "Python 3 (ipykernel)",
   "language": "python",
   "name": "python3"
  },
  "language_info": {
   "codemirror_mode": {
    "name": "ipython",
    "version": 3
   },
   "file_extension": ".py",
   "mimetype": "text/x-python",
   "name": "python",
   "nbconvert_exporter": "python",
   "pygments_lexer": "ipython3",
   "version": "3.11.8"
  }
 },
 "nbformat": 4,
 "nbformat_minor": 5
}